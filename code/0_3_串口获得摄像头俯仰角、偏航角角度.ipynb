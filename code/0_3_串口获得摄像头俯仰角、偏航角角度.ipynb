{
 "cells": [
  {
   "attachments": {},
   "cell_type": "markdown",
   "metadata": {},
   "source": [
    "# 串口获得摄像头俯仰角、偏航角角度\n",
    "\n",
    "> 记得每次运行完后restart kernel"
   ]
  },
  {
   "cell_type": "code",
   "execution_count": 1,
   "metadata": {},
   "outputs": [
    {
     "name": "stdout",
     "output_type": "stream",
     "text": [
      " 端口： COM3\n",
      " 描述： USB Serial Port (COM3)\n",
      " 名字： COM3\n"
     ]
    }
   ],
   "source": [
    "import serial.tools.list_ports\n",
    "\n",
    "# 列出当前可用的串口设备\n",
    "ports = serial.tools.list_ports.comports()\n",
    "\n",
    "# 打印每个串口设备的信息\n",
    "for port in ports:\n",
    "    print(\" 端口：\", port.device)\n",
    "    print(\" 描述：\", port.description)\n",
    "    print(\" 名字：\", port.name)"
   ]
  },
  {
   "cell_type": "code",
   "execution_count": 2,
   "metadata": {},
   "outputs": [],
   "source": [
    "import COMMAND\n",
    "import serial\n",
    "\n",
    "def State_info():\n",
    "    # 定义串口\n",
    "    last_yaw_ang = 0\n",
    "    last_pitch_ang = 0\n",
    "    serial_info = serial.Serial('COM3', 9600, timeout=0.04)\n",
    "    if serial_info.isOpen():\n",
    "        print(\" Open Success \")\n",
    "        while True :\n",
    "            # ================================================#\n",
    "            #               偏航角\n",
    "            # ================================================#\n",
    "            # 查询偏航角yaw\n",
    "            X_drgee = bytes.fromhex(COMMAND.X_drgee)\n",
    "            serial_info.write(X_drgee)\n",
    "\n",
    "            # 获得返回数据，并解算\n",
    "            Yaw = serial_info.readline().hex()\n",
    "            # print(\"从传感器读取到的偏航角Yaw的十六进制字符串为：\", Yaw)\n",
    "\n",
    "            if(not Yaw ==''):\n",
    "                # 截取长度\n",
    "                Yaw = Yaw[8:12]\n",
    "                if Yaw == '':\n",
    "                    continue\n",
    "                # 十六进制转十进制（无符号）\n",
    "                Yaw_ang = int(Yaw.upper(), 16)\n",
    "                Yaw_ang = Yaw_ang/100\n",
    "\n",
    "            # ================================================#\n",
    "            #               俯仰角\n",
    "            # ================================================#\n",
    "\n",
    "            # 查询俯仰角Pitch\n",
    "            Y_drgee = bytes.fromhex(COMMAND.Y_drgee)\n",
    "            serial_info.write(Y_drgee)\n",
    "            Pitch = serial_info.readline().hex()\n",
    "            # print(\"从传感器读取到的俯仰角Pitch的十六进制字符串为：\", Pitch)\n",
    "\n",
    "            if (not Pitch == ''):\n",
    "                Pitch = Pitch[8:12]\n",
    "                if Pitch == '':\n",
    "                    continue\n",
    "                # 十六进制转十进制（无符号）\n",
    "                Pitch_ang = int(Pitch.upper(), 16)\n",
    "                Pitch_ang = Pitch_ang/100\n",
    "\n",
    "                if Pitch_ang>=270 and Pitch_ang < 360:\n",
    "                    Pitch_ang = 360 - Pitch_ang\n",
    "\n",
    "\n",
    "            # 输出角度\n",
    "            if Yaw_ang != last_yaw_ang or Pitch_ang != last_pitch_ang:\n",
    "                print(\"偏航角：{:.2f}° 俯仰角：{:.2f}°\".format(Yaw_ang, Pitch_ang))\n",
    "                last_yaw_ang = Yaw_ang\n",
    "                last_pitch_ang = Pitch_ang\n",
    "\n",
    "        return Yaw_ang, Pitch_ang, True\n",
    "    else:\n",
    "        print(\" Opne failed \")\n",
    "        return -1, -1, False"
   ]
  },
  {
   "cell_type": "code",
   "execution_count": 3,
   "metadata": {},
   "outputs": [
    {
     "name": "stdout",
     "output_type": "stream",
     "text": [
      " Open Success \n",
      "偏航角：163.73° 俯仰角：9.79°\n",
      "偏航角：92.16° 俯仰角：9.79°\n",
      "偏航角：168.76° 俯仰角：9.79°\n",
      "偏航角：9.79° 俯仰角：9.79°\n",
      "偏航角：172.07° 俯仰角：9.79°\n"
     ]
    },
    {
     "ename": "KeyboardInterrupt",
     "evalue": "",
     "output_type": "error",
     "traceback": [
      "\u001b[1;31m---------------------------------------------------------------------------\u001b[0m",
      "\u001b[1;31mKeyboardInterrupt\u001b[0m                         Traceback (most recent call last)",
      "\u001b[1;32m~\\AppData\\Local\\Temp/ipykernel_19960/2813098876.py\u001b[0m in \u001b[0;36m<module>\u001b[1;34m\u001b[0m\n\u001b[1;32m----> 1\u001b[1;33m \u001b[0mState_info\u001b[0m\u001b[1;33m(\u001b[0m\u001b[1;33m)\u001b[0m\u001b[1;33m\u001b[0m\u001b[1;33m\u001b[0m\u001b[0m\n\u001b[0m",
      "\u001b[1;32m~\\AppData\\Local\\Temp/ipykernel_19960/4233444839.py\u001b[0m in \u001b[0;36mState_info\u001b[1;34m()\u001b[0m\n\u001b[0;32m     18\u001b[0m \u001b[1;33m\u001b[0m\u001b[0m\n\u001b[0;32m     19\u001b[0m             \u001b[1;31m# 获得返回数据，并解算\u001b[0m\u001b[1;33m\u001b[0m\u001b[1;33m\u001b[0m\u001b[0m\n\u001b[1;32m---> 20\u001b[1;33m             \u001b[0mYaw\u001b[0m \u001b[1;33m=\u001b[0m \u001b[0mserial_info\u001b[0m\u001b[1;33m.\u001b[0m\u001b[0mreadline\u001b[0m\u001b[1;33m(\u001b[0m\u001b[1;33m)\u001b[0m\u001b[1;33m.\u001b[0m\u001b[0mhex\u001b[0m\u001b[1;33m(\u001b[0m\u001b[1;33m)\u001b[0m\u001b[1;33m\u001b[0m\u001b[1;33m\u001b[0m\u001b[0m\n\u001b[0m\u001b[0;32m     21\u001b[0m             \u001b[1;31m# print(\"从传感器读取到的偏航角Yaw的十六进制字符串为：\", Yaw)\u001b[0m\u001b[1;33m\u001b[0m\u001b[1;33m\u001b[0m\u001b[0m\n\u001b[0;32m     22\u001b[0m \u001b[1;33m\u001b[0m\u001b[0m\n",
      "\u001b[1;32md:\\anaconda\\lib\\site-packages\\serial\\serialwin32.py\u001b[0m in \u001b[0;36mread\u001b[1;34m(self, size)\u001b[0m\n\u001b[0;32m    286\u001b[0m                 \u001b[1;32mif\u001b[0m \u001b[1;32mnot\u001b[0m \u001b[0mread_ok\u001b[0m \u001b[1;32mand\u001b[0m \u001b[0mwin32\u001b[0m\u001b[1;33m.\u001b[0m\u001b[0mGetLastError\u001b[0m\u001b[1;33m(\u001b[0m\u001b[1;33m)\u001b[0m \u001b[1;32mnot\u001b[0m \u001b[1;32min\u001b[0m \u001b[1;33m(\u001b[0m\u001b[0mwin32\u001b[0m\u001b[1;33m.\u001b[0m\u001b[0mERROR_SUCCESS\u001b[0m\u001b[1;33m,\u001b[0m \u001b[0mwin32\u001b[0m\u001b[1;33m.\u001b[0m\u001b[0mERROR_IO_PENDING\u001b[0m\u001b[1;33m)\u001b[0m\u001b[1;33m:\u001b[0m\u001b[1;33m\u001b[0m\u001b[1;33m\u001b[0m\u001b[0m\n\u001b[0;32m    287\u001b[0m                     \u001b[1;32mraise\u001b[0m \u001b[0mSerialException\u001b[0m\u001b[1;33m(\u001b[0m\u001b[1;34m\"ReadFile failed ({!r})\"\u001b[0m\u001b[1;33m.\u001b[0m\u001b[0mformat\u001b[0m\u001b[1;33m(\u001b[0m\u001b[0mctypes\u001b[0m\u001b[1;33m.\u001b[0m\u001b[0mWinError\u001b[0m\u001b[1;33m(\u001b[0m\u001b[1;33m)\u001b[0m\u001b[1;33m)\u001b[0m\u001b[1;33m)\u001b[0m\u001b[1;33m\u001b[0m\u001b[1;33m\u001b[0m\u001b[0m\n\u001b[1;32m--> 288\u001b[1;33m                 result_ok = win32.GetOverlappedResult(\n\u001b[0m\u001b[0;32m    289\u001b[0m                     \u001b[0mself\u001b[0m\u001b[1;33m.\u001b[0m\u001b[0m_port_handle\u001b[0m\u001b[1;33m,\u001b[0m\u001b[1;33m\u001b[0m\u001b[1;33m\u001b[0m\u001b[0m\n\u001b[0;32m    290\u001b[0m                     \u001b[0mctypes\u001b[0m\u001b[1;33m.\u001b[0m\u001b[0mbyref\u001b[0m\u001b[1;33m(\u001b[0m\u001b[0mself\u001b[0m\u001b[1;33m.\u001b[0m\u001b[0m_overlapped_read\u001b[0m\u001b[1;33m)\u001b[0m\u001b[1;33m,\u001b[0m\u001b[1;33m\u001b[0m\u001b[1;33m\u001b[0m\u001b[0m\n",
      "\u001b[1;31mKeyboardInterrupt\u001b[0m: "
     ]
    }
   ],
   "source": [
    "State_info()"
   ]
  },
  {
   "cell_type": "code",
   "execution_count": null,
   "metadata": {},
   "outputs": [],
   "source": []
  }
 ],
 "metadata": {
  "kernelspec": {
   "display_name": "base",
   "language": "python",
   "name": "python3"
  },
  "language_info": {
   "codemirror_mode": {
    "name": "ipython",
    "version": 3
   },
   "file_extension": ".py",
   "mimetype": "text/x-python",
   "name": "python",
   "nbconvert_exporter": "python",
   "pygments_lexer": "ipython3",
   "version": "3.9.7"
  },
  "orig_nbformat": 4
 },
 "nbformat": 4,
 "nbformat_minor": 2
}
